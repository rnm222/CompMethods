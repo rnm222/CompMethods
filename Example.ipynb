{
 "cells": [
  {
   "cell_type": "markdown",
   "id": "294c5a01-08cf-453d-ac78-423e11757bf0",
   "metadata": {},
   "source": [
    "## Define the Functions"
   ]
  },
  {
   "cell_type": "code",
   "execution_count": 1,
   "id": "26116910-5446-4ba0-b8d5-d81748bce0a8",
   "metadata": {},
   "outputs": [
    {
     "name": "stdout",
     "output_type": "stream",
     "text": [
      "error: graphics_toolkit: qt toolkit is not available\n",
      "error: called from\n",
      "    graphics_toolkit at line 81 column 5\n",
      "\n"
     ]
    }
   ],
   "source": [
    "f = @(x) x - x^(1/3) - 2;"
   ]
  },
  {
   "cell_type": "code",
   "execution_count": 2,
   "id": "8f69e76c-0c80-4cf7-90f5-7aedb94f7b09",
   "metadata": {},
   "outputs": [],
   "source": [
    "df = @(x) 1 - x^(-2/3)/3;"
   ]
  },
  {
   "cell_type": "code",
   "execution_count": 3,
   "id": "7759e3c7-b564-49ad-9b29-dd65928c6ffc",
   "metadata": {},
   "outputs": [],
   "source": [
    "g = @(p) p^(1/3) + 2;"
   ]
  },
  {
   "cell_type": "markdown",
   "id": "ddcda261-f976-45a3-8c39-4bc0200c15fa",
   "metadata": {},
   "source": [
    "## Define Root Finding Methods"
   ]
  },
  {
   "cell_type": "markdown",
   "id": "2a54f00f-9a70-48d2-8f4f-83a67740822b",
   "metadata": {},
   "source": [
    "The iteration process stops when the difference between two successive approximations is less than the given tolerance delta."
   ]
  },
  {
   "cell_type": "code",
   "execution_count": 4,
   "id": "d90297b3-9e41-4b8c-b0ae-4de0175437d8",
   "metadata": {},
   "outputs": [],
   "source": [
    "delta = 10^(-8);"
   ]
  },
  {
   "cell_type": "markdown",
   "id": "7138d830-0d98-4696-9c24-e14c572f40f4",
   "metadata": {},
   "source": [
    "### The Bisection method"
   ]
  },
  {
   "cell_type": "code",
   "execution_count": 5,
   "id": "fccfa9f0-ceb7-49e2-b8f2-095f9be28fc4",
   "metadata": {},
   "outputs": [],
   "source": [
    "function [c,err,yc] = bisect(f,a,b,delta)\n",
    "\n",
    "%Input  - f is the function\n",
    "%\t    - a and b are the left and right endpoints\n",
    "%\t    - delta is the tolerance\n",
    "%Output - c is the zero\n",
    "%\t    - yc = f(c)\n",
    "% \t    - err is the error estimate for c\n",
    "\n",
    "%If f is defined as M-file function, use the @ notation\n",
    "% call [c,err,yc] = bisect(@f,a,b,delta).\n",
    "%If f is defined as anonymous functions use the\n",
    "% call [c,err,yc] = bisect(f,a,b,delta).\n",
    "\n",
    "fprintf('  k    x(k)       f(x(k))      a(k)        b(k)      |x(k)-x(k-1)|      tol\\n');\n",
    "\n",
    "ya = feval(f,a);\n",
    "yb = feval(f,b);\n",
    "if ya * yb > 0,  return, end  %the interval [a,b] does not bracket a root\n",
    "\n",
    "max1 = 1+round((log(b-a)-log(delta))/log(2)); %the number of iterations\n",
    "c_old = b;\n",
    "for k = 1:max1\n",
    "\tc = (a+b) / 2;\n",
    "\tyc = feval(f,c);\n",
    "\tif yc == 0\n",
    "\t\terr = 0;\n",
    "\telseif sign(yb) == sign(yc)\n",
    "\t\terr = abs(c_old - c);\n",
    "        c_old = c;\n",
    "        b = c;\n",
    "\t\tyb = yc;\n",
    "\telse\n",
    "\t\terr = abs(c_old - c);\n",
    "        c_old = c;\n",
    "        a = c;\n",
    "\t\tya = yc;\n",
    "\tend\n",
    "    fprintf('%3d  %11.8f %11.8f  %11.8f  %11.8f  %11.8f  %11.6e\\n',k,c,yc,a,b,err,delta);     \n",
    "\tif err < delta, break, end\n",
    "end\n",
    "\n",
    "c = (a+b)/2;\n",
    "err = abs(b-a)/2;\n",
    "yc = feval(f,c);\n",
    "\n",
    "end %function\n"
   ]
  },
  {
   "cell_type": "markdown",
   "id": "5a59e80f-075a-4485-818b-01f427321a5c",
   "metadata": {},
   "source": [
    "### The Fixed-Point Iteration Method"
   ]
  },
  {
   "cell_type": "code",
   "execution_count": 6,
   "id": "293acbbf-5e54-42de-ad8a-5a18f16b93b2",
   "metadata": {},
   "outputs": [],
   "source": [
    "function [p0,err,k,y] = fixedpoint(g,p0,delta,max1)\n",
    "\n",
    "%Input    - f is the object function \n",
    "%            - df is the derivative of f \n",
    "%            - x0 is the initial approximation to a zero of f\n",
    "%\t         - delta is the tolerance for p0\n",
    "%\t         - epsilon is the tolerance for the function values y\n",
    "%\t         - max1 is the maximum number of iterations\n",
    "%Output - x0 is the Newton-Raphson approximation to the zero\n",
    "%\t         - err is the error estimate for p0\n",
    "%\t         - k is the number of iterations\n",
    "%\t         - y is the function value g(p0)\n",
    "\n",
    "%If f and df are defined as M-file functions use the @ notation\n",
    "% call [p0,err,k,y] = fixedpoint(@g,p0,delta,max1).\n",
    "%If f and df are defined as anonymous functions use the\n",
    "% call [p0,err,k,y] = fixedpoint(g,p0,delta,max1).\n",
    "\n",
    "fprintf('  k        x(k)           g(x(k))     |x(k) - x(k-1)|   tol\\n');\n",
    "fprintf('%3d   %12.8f    %12.5e   %12.5e    %12.5e \\n',0, p0, g(p0), abs(p0 - g(p0)), delta)\n",
    "\n",
    "for k = 1:max1\t\n",
    "\tp1 = g(p0);\t\n",
    "\terr = abs(p1-p0);\n",
    "\tp0 = p1;\n",
    "\ty = g(p0);\n",
    "    fprintf('%3d   %12.8f    %12.5e   %12.5e    %12.5e\\n',k,p0,y,err, delta)\n",
    "\tif (err<delta), break, end\n",
    "end\n",
    "\n",
    "end %function"
   ]
  },
  {
   "cell_type": "markdown",
   "id": "2ad97d93-4921-4f5d-aa63-b9b63c8bc080",
   "metadata": {},
   "source": [
    "### The Newton Method"
   ]
  },
  {
   "cell_type": "code",
   "execution_count": 7,
   "id": "9a6de5a2-badc-4c6b-9174-20d1a7660a61",
   "metadata": {},
   "outputs": [],
   "source": [
    "function [x0,err,k,y] = newton(f,df,x0,delta,max1)\n",
    "\n",
    "%Input    - f is the object function \n",
    "%            - df is the derivative of f \n",
    "%            - x0 is the initial approximation to a zero of f\n",
    "%\t         - delta is the tolerance for p0\n",
    "%\t         - epsilon is the tolerance for the function values y\n",
    "%\t         - max1 is the maximum number of iterations\n",
    "%Output - x0 is the Newton-Raphson approximation to the zero\n",
    "%\t         - err is the error estimate for p0\n",
    "%\t         - k is the number of iterations\n",
    "%\t         - y is the function value f(p0)\n",
    "\n",
    "%If f and df are defined as M-file functions use the @ notation\n",
    "% call [x0,err,k,y] = newton(@f,@df,x0,delta,max1).\n",
    "%If f and df are defined as anonymous functions use the\n",
    "% call  [x0,err,k,y] = newton(f,df,x0,delta,max1).\n",
    "\n",
    "fprintf('  k        x(k)           f(x(k))       |x(k) - x(k-1)|   tol\\n');\n",
    "fprintf('%3d    %12.8f   %12.5e     %12.5e     %12.5e \\n',0,x0,f(x0),1,delta)\n",
    "\n",
    "for k = 1:max1\t\n",
    "\tx1 = x0 - f(x0) / df(x0);\t\n",
    "\terr = abs(x1-x0);\n",
    "\tx0 = x1;\n",
    "\ty = f(x0);\n",
    "    fprintf('%3d    %12.8f   %12.5e     %12.5e     %12.5e \\n',k,x0,y,err,delta )\n",
    "\tif (err<delta), break, end\n",
    "end\n",
    "\n",
    "end %function"
   ]
  },
  {
   "cell_type": "code",
   "execution_count": 8,
   "id": "ca0681cb-c5bb-458a-8015-090809f13399",
   "metadata": {},
   "outputs": [],
   "source": [
    "function [x1,err,k,y]=secant(f,x0,x1,delta,max1)\n",
    "\n",
    "%Input    - f is the object function \n",
    "%            - x0 and x1 are the initial approximations to a zero of f        \n",
    "%\t         - delta is the tolerance for x1\n",
    "%\t         - max1 is the maximum number of iterations\n",
    "%Output - x1 is the secant method approximation to the zero\n",
    "%\t         - err is the error estimate for x1\n",
    "%\t         - k is the number of iterations\n",
    "%\t         - y is the function value f(x1)\n",
    "\n",
    "%If f and df are defined as M-file functions use the @ notation\n",
    "% call [x1,err,k,y] = secant(@f,x0,x1,delta,max1).\n",
    "%If f and df are defined as anonymous functions use the\n",
    "% call  [x1,err,k,y] = secant(f,x0,x1,delta,max1).\n",
    "\n",
    "fprintf('  k      x(k-1)       x(k)         f(x(k))      |x(k) - x(k-1)|   tol\\n');\n",
    "fprintf('%3d   %12.8f   %12.8f   %12.5e     %12.5e     %12.5e \\n',0,x0,x1,f(x1),abs(x1-x0),delta)\n",
    "\n",
    "for k = 1:max1\t\n",
    "\tx2 = x1 - f(x1) * (x1 - x0) / (f(x1) - f(x0));\n",
    "\terr = abs(x2 - x1);\n",
    "\tx0 = x1;\n",
    "\tx1 = x2;\n",
    "\ty = f(x1);\n",
    "    fprintf('%3d  %12.8f  %12.8f  %12.5e    %12.5e    %10.4e \\n',k,x0,x1,y,err,delta)\n",
    "\tif (err<delta),break,end\n",
    "end\n",
    "\n",
    "end %function"
   ]
  },
  {
   "cell_type": "markdown",
   "id": "6d369c88-c7dd-455d-9318-533491905802",
   "metadata": {},
   "source": [
    "### Apply all four methods"
   ]
  },
  {
   "cell_type": "code",
   "execution_count": 9,
   "id": "ea767e8c-8c40-4423-b0c3-aeabfc492d8a",
   "metadata": {},
   "outputs": [
    {
     "name": "stdout",
     "output_type": "stream",
     "text": [
      "  k    x(k)       f(x(k))      a(k)        b(k)      |x(k)-x(k-1)|      tol\n",
      "  1   3.50000000 -0.01829449   3.50000000   4.00000000   0.50000000  1.000000e-08\n",
      "  2   3.75000000  0.19638375   3.50000000   3.75000000   0.25000000  1.000000e-08\n",
      "  3   3.62500000  0.08884159   3.50000000   3.62500000   0.12500000  1.000000e-08\n",
      "  4   3.56250000  0.03522131   3.50000000   3.56250000   0.06250000  1.000000e-08\n",
      "  5   3.53125000  0.00845016   3.50000000   3.53125000   0.03125000  1.000000e-08\n",
      "  6   3.51562500 -0.00492550   3.51562500   3.53125000   0.01562500  1.000000e-08\n",
      "  7   3.52343750  0.00176150   3.51562500   3.52343750   0.00781250  1.000000e-08\n",
      "  8   3.51953125 -0.00158221   3.51953125   3.52343750   0.00390625  1.000000e-08\n",
      "  9   3.52148438  0.00008959   3.51953125   3.52148438   0.00195312  1.000000e-08\n",
      " 10   3.52050781 -0.00074632   3.52050781   3.52148438   0.00097656  1.000000e-08\n",
      " 11   3.52099609 -0.00032837   3.52099609   3.52148438   0.00048828  1.000000e-08\n",
      " 12   3.52124023 -0.00011939   3.52124023   3.52148438   0.00024414  1.000000e-08\n",
      " 13   3.52136230 -0.00001490   3.52136230   3.52148438   0.00012207  1.000000e-08\n",
      " 14   3.52142334  0.00003735   3.52136230   3.52142334   0.00006104  1.000000e-08\n",
      " 15   3.52139282  0.00001123   3.52136230   3.52139282   0.00003052  1.000000e-08\n",
      " 16   3.52137756 -0.00000183   3.52137756   3.52139282   0.00001526  1.000000e-08\n",
      " 17   3.52138519  0.00000470   3.52137756   3.52138519   0.00000763  1.000000e-08\n",
      " 18   3.52138138  0.00000143   3.52137756   3.52138138   0.00000381  1.000000e-08\n",
      " 19   3.52137947 -0.00000020   3.52137947   3.52138138   0.00000191  1.000000e-08\n",
      " 20   3.52138042  0.00000061   3.52137947   3.52138042   0.00000095  1.000000e-08\n",
      " 21   3.52137995  0.00000021   3.52137947   3.52137995   0.00000048  1.000000e-08\n",
      " 22   3.52137971  0.00000000   3.52137947   3.52137971   0.00000024  1.000000e-08\n",
      " 23   3.52137959 -0.00000010   3.52137959   3.52137971   0.00000012  1.000000e-08\n",
      " 24   3.52137965 -0.00000005   3.52137965   3.52137971   0.00000006  1.000000e-08\n",
      " 25   3.52137968 -0.00000002   3.52137968   3.52137971   0.00000003  1.000000e-08\n",
      " 26   3.52137969 -0.00000001   3.52137969   3.52137971   0.00000001  1.000000e-08\n",
      " 27   3.52137970 -0.00000000   3.52137970   3.52137971   0.00000001  1.000000e-08\n",
      "c =  3.5214\n",
      "err =  0.0000000037253\n",
      "yc = -0.0000000011009\n"
     ]
    }
   ],
   "source": [
    "[c,err,yc] = bisect(f,3,4,delta)"
   ]
  },
  {
   "cell_type": "code",
   "execution_count": 10,
   "id": "2d56e917-fa40-461b-9487-67a47065ff63",
   "metadata": {},
   "outputs": [
    {
     "name": "stdout",
     "output_type": "stream",
     "text": [
      "  k        x(k)           g(x(k))     |x(k) - x(k-1)|   tol\n",
      "  0     3.00000000     3.44225e+00    4.42250e-01     1.00000e-08 \n",
      "  1     3.44224957     3.50990e+00    4.42250e-01     1.00000e-08\n",
      "  2     3.50989745     3.51972e+00    6.76479e-02     1.00000e-08\n",
      "  3     3.51972430     3.52114e+00    9.82686e-03     1.00000e-08\n",
      "  4     3.52114127     3.52135e+00    1.41696e-03     1.00000e-08\n",
      "  5     3.52134537     3.52137e+00    2.04099e-04     1.00000e-08\n",
      "  6     3.52137476     3.52138e+00    2.93937e-05     1.00000e-08\n",
      "  7     3.52137899     3.52138e+00    4.23311e-06     1.00000e-08\n",
      "  8     3.52137960     3.52138e+00    6.09626e-07     1.00000e-08\n",
      "  9     3.52137969     3.52138e+00    8.77945e-08     1.00000e-08\n",
      " 10     3.52137970     3.52138e+00    1.26436e-08     1.00000e-08\n",
      " 11     3.52137971     3.52138e+00    1.82085e-09     1.00000e-08\n",
      "x0 =  3.5214\n",
      "err =  0.0000000018209\n",
      "k =  11\n",
      "y =  3.5214\n"
     ]
    }
   ],
   "source": [
    "[x0,err,k,y] = fixedpoint(g,3,delta,50)"
   ]
  },
  {
   "cell_type": "code",
   "execution_count": 11,
   "id": "4a96144c-9efb-4fc8-8f4b-c0e8aba60091",
   "metadata": {},
   "outputs": [
    {
     "name": "stdout",
     "output_type": "stream",
     "text": [
      "  k        x(k)           f(x(k))       |x(k) - x(k-1)|   tol\n",
      "  0      3.00000000   -4.42250e-01      1.00000e+00      1.00000e-08 \n",
      "  1      3.52664429    4.50679e-03      5.26644e-01      1.00000e-08 \n",
      "  2      3.52138015    3.77141e-07      5.26415e-03      1.00000e-08 \n",
      "  3      3.52137971    2.66454e-15      4.40593e-07      1.00000e-08 \n",
      "  4      3.52137971    0.00000e+00      3.10862e-15      1.00000e-08 \n",
      "x0 =  3.5214\n",
      "err =    3.1086e-15\n",
      "k =  4\n",
      "y = 0\n"
     ]
    }
   ],
   "source": [
    "[x0,err,k,y] = newton(f,df,3,delta,50)"
   ]
  },
  {
   "cell_type": "code",
   "execution_count": 12,
   "id": "78963cf3-e8c4-427e-869b-7f5ff5c3a590",
   "metadata": {},
   "outputs": [
    {
     "name": "stdout",
     "output_type": "stream",
     "text": [
      "  k      x(k-1)       x(k)         f(x(k))      |x(k) - x(k-1)|   tol\n",
      "  0     3.00000000     3.50000000   -1.82945e-02      5.00000e-01      1.00000e-08 \n",
      "  1    3.50000000    3.52157597   1.68001e-04     2.15760e-02    1.0000e-08 \n",
      "  2    3.52157597    3.52137964  -5.74138e-08     1.96332e-04    1.0000e-08 \n",
      "  3    3.52137964    3.52137971  -1.79634e-13     6.70730e-08    1.0000e-08 \n",
      "  4    3.52137971    3.52137971   0.00000e+00     2.10054e-13    1.0000e-08 \n",
      "x1 =  3.5214\n",
      "err =    2.1005e-13\n",
      "k =  4\n",
      "y = 0\n"
     ]
    }
   ],
   "source": [
    "[x1,err,k,y]=secant(f,3,3.5,delta,50)"
   ]
  },
  {
   "cell_type": "code",
   "execution_count": null,
   "id": "36035cc6-39eb-4229-a76e-61810bd16e4a",
   "metadata": {},
   "outputs": [],
   "source": []
  },
  {
   "cell_type": "code",
   "execution_count": null,
   "id": "24bf6bcc-eb63-4e48-9e92-c5693ff2b4ec",
   "metadata": {},
   "outputs": [],
   "source": []
  }
 ],
 "metadata": {
  "kernelspec": {
   "display_name": "Octave",
   "language": "octave",
   "name": "octave"
  },
  "language_info": {
   "file_extension": ".m",
   "help_links": [
    {
     "text": "GNU Octave",
     "url": "https://www.gnu.org/software/octave/support.html"
    },
    {
     "text": "Octave Kernel",
     "url": "https://github.com/Calysto/octave_kernel"
    },
    {
     "text": "MetaKernel Magics",
     "url": "https://metakernel.readthedocs.io/en/latest/source/README.html"
    }
   ],
   "mimetype": "text/x-octave",
   "name": "octave",
   "version": "5.2.0"
  },
  "toc-showcode": true
 },
 "nbformat": 4,
 "nbformat_minor": 5
}
