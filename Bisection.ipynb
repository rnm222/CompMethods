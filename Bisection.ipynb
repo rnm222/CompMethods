{
 "cells": [
  {
   "cell_type": "markdown",
   "id": "4023e13e-d40a-4335-802c-161e9f89c706",
   "metadata": {},
   "source": [
    "# Bisection Method"
   ]
  },
  {
   "cell_type": "code",
   "execution_count": 7,
   "id": "19373088-ed4d-4476-85f2-3631eb54fc47",
   "metadata": {},
   "outputs": [],
   "source": [
    "function [c,err,yc] = bisect(f,a,b,delta)\n",
    "\n",
    "%Input  - f is the function\n",
    "%\t    - a and b are the left and right endpoints\n",
    "%\t    - delta is the tolerance\n",
    "%Output - c is the zero\n",
    "%\t    - yc = f(c)\n",
    "% \t    - err is the error estimate for c\n",
    "\n",
    "%If f is defined as M-file function, use the @ notation\n",
    "% call [c,err,yc] = bisect(@f,a,b,delta).\n",
    "%If f is defined as anonymous functions use the\n",
    "% call [c,err,yc] = bisect(f,a,b,delta).\n",
    "\n",
    "fprintf(' k        c(k)           f(c(k))          a(k)            b(k)          b(k)-a(k)         tol\\n');\n",
    "\n",
    "ya = feval(f,a);\n",
    "yb = feval(f,b);\n",
    "if ya * yb > 0,  return, end  %the interval [a,b] does not bracket a root\n",
    "\n",
    "max1 = 1+round((log(b-a)-log(delta))/log(2)); %the number of iterations\n",
    "\n",
    "for k = 1:max1\n",
    "\tc = (a+b) / 2;\n",
    "\tyc = feval(f,c);\n",
    "\tif yc == 0\n",
    "\t\ta = c;\n",
    "\t\tb = c;\n",
    "\telseif sign(yb) == sign(yc)\n",
    "\t\tb = c;\n",
    "\t\tyb = yc;\n",
    "\telse\n",
    "\t\ta = c;\n",
    "\t\tya = yc;\n",
    "\tend\n",
    "    fprintf('%3d    %12.8f   %12.8f    %12.8f    %12.8f    %12.8f    %12.8f\\n',k,c,yc,a,b,b-a,delta);     \n",
    "\tif b-a < delta, break, end\n",
    "end\n",
    "\n",
    "c = (a+b)/2;\n",
    "err = abs(b-a)/2;\n",
    "yc = feval(f,c);\n",
    "\n",
    "end %function\n",
    "\n"
   ]
  },
  {
   "cell_type": "markdown",
   "id": "b050860e-7a6d-4070-9c49-1f5da53b7193",
   "metadata": {},
   "source": [
    "## Compute the square root of 2"
   ]
  },
  {
   "cell_type": "code",
   "execution_count": 8,
   "id": "3bdbae0f-36cf-4267-a96a-dd5041b57874",
   "metadata": {},
   "outputs": [
    {
     "name": "stdout",
     "output_type": "stream",
     "text": [
      " k        c(k)           f(c(k))          a(k)            b(k)          b(k)-a(k)         tol\n",
      "  1      1.00000000    -1.00000000      1.00000000      2.00000000      1.00000000      0.00010000\n",
      "  2      1.50000000     0.25000000      1.00000000      1.50000000      0.50000000      0.00010000\n",
      "  3      1.25000000    -0.43750000      1.25000000      1.50000000      0.25000000      0.00010000\n",
      "  4      1.37500000    -0.10937500      1.37500000      1.50000000      0.12500000      0.00010000\n",
      "  5      1.43750000     0.06640625      1.37500000      1.43750000      0.06250000      0.00010000\n",
      "  6      1.40625000    -0.02246094      1.40625000      1.43750000      0.03125000      0.00010000\n",
      "  7      1.42187500     0.02172852      1.40625000      1.42187500      0.01562500      0.00010000\n",
      "  8      1.41406250    -0.00042725      1.41406250      1.42187500      0.00781250      0.00010000\n",
      "  9      1.41796875     0.01063538      1.41406250      1.41796875      0.00390625      0.00010000\n",
      " 10      1.41601562     0.00510025      1.41406250      1.41601562      0.00195312      0.00010000\n",
      " 11      1.41503906     0.00233555      1.41406250      1.41503906      0.00097656      0.00010000\n",
      " 12      1.41455078     0.00095391      1.41406250      1.41455078      0.00048828      0.00010000\n",
      " 13      1.41430664     0.00026327      1.41406250      1.41430664      0.00024414      0.00010000\n",
      " 14      1.41418457    -0.00008200      1.41418457      1.41430664      0.00012207      0.00010000\n",
      " 15      1.41424561     0.00009063      1.41418457      1.41424561      0.00006104      0.00010000\n",
      "c =  1.4142\n",
      "err =  0.000030518\n",
      "yc =  0.0000043148\n"
     ]
    }
   ],
   "source": [
    "[c,err,yc] = bisect(@(x) x.^2-2,0,2,0.0001)"
   ]
  },
  {
   "cell_type": "code",
   "execution_count": null,
   "id": "5dbf708d-e4f9-464a-af72-a4051a7c7c46",
   "metadata": {},
   "outputs": [],
   "source": []
  }
 ],
 "metadata": {
  "kernelspec": {
   "display_name": "Octave",
   "language": "octave",
   "name": "octave"
  },
  "language_info": {
   "file_extension": ".m",
   "help_links": [
    {
     "text": "GNU Octave",
     "url": "https://www.gnu.org/software/octave/support.html"
    },
    {
     "text": "Octave Kernel",
     "url": "https://github.com/Calysto/octave_kernel"
    },
    {
     "text": "MetaKernel Magics",
     "url": "https://metakernel.readthedocs.io/en/latest/source/README.html"
    }
   ],
   "mimetype": "text/x-octave",
   "name": "octave",
   "version": "5.2.0"
  }
 },
 "nbformat": 4,
 "nbformat_minor": 5
}
