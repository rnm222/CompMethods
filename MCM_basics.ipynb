{
 "cells": [
  {
   "cell_type": "markdown",
   "id": "77dfe310",
   "metadata": {},
   "source": [
    "<script\n",
    "  src=\"https://cdn.mathjax.org/mathjax/latest/MathJax.js?config=TeX-AMS-MML_HTMLorMML\"\n",
    "  type=\"text/javascript\">\n",
    "</script>\n",
    "\n",
    "## 1 The \"Hit-or-Miss\" Method\n",
    "\n",
    "### Example 1:\n",
    "\n",
    "The likelihood of some event E can be calculated as a long-run ratio of the number of times when the event E occurs to the total number of trials.  Count the number of times, NE(n), the event E occurs in the first n trials that are performed independently and under identical conditions. The probability P(E) is approximated as P(E) ≈ NE(n) / n."
   ]
  },
  {
   "cell_type": "code",
   "execution_count": 6,
   "id": "42d35e92",
   "metadata": {},
   "outputs": [
    {
     "name": "stdout",
     "output_type": "stream",
     "text": [
      "0.4050\n"
     ]
    }
   ],
   "source": [
    "%% Toss an unbalanced coin and calculate the number of heads\n",
    "%% Estimate the probability of a head \n",
    "n = 1000; % The number of tosses\n",
    "p = 0.4;  % The probability of head\n",
    "U = rand(n,1); % n samples from Unif[0,1]\n",
    "B = (U <= p);  % n samples from Bern(p)\n",
    "NH = sum(B);   % Number of heads\n",
    "prob_est = NH / n;   % Estimate the probability\n",
    "disp(prob_est)"
   ]
  },
  {
   "cell_type": "markdown",
   "id": "15382f38",
   "metadata": {},
   "source": [
    "### Example 2:\n",
    "\n",
    "Consider a planar figure D  contained completely within the unit square S = [0,1] x [0,1]. Select a point at random uniformly on the square. The likelihood that such a randomly chosen point belongs to D equals the ratio of the area |D| of D to the area |S| of the unit square (which equals one). Choose at random n points independently and uniformly on the square. Let ND(n) points fall on the figure D. The area of D is approximated as |D| ≈ ND(n) / n x |S|."
   ]
  },
  {
   "cell_type": "code",
   "execution_count": 2,
   "id": "d30b8c31",
   "metadata": {},
   "outputs": [
    {
     "name": "stdout",
     "output_type": "stream",
     "text": [
      "The area of D is approximately   0.7899\n",
      "The number pi is approximately   3.1596\n"
     ]
    }
   ],
   "source": [
    "%% Let D be a circle inscribed in the unit square S = [0,1] x [0,1]\n",
    "%% Drop n random points uniformly distributed on S \n",
    "%% Calculate how many of them fallen on D\n",
    "%% Estimate the area of the figure D\n",
    "n = 10000;          % The number of points\n",
    "Points = rand(n,2); % Coordinates of the points sampled from Unif[0,1]\n",
    "Dist = sqrt( (Points(:,1)-0.5).^2 + (Points(:,2)-0.5).^2 );  \n",
    "                       % Distance from the center (0.5,0.5) \n",
    "ND = sum(Dist < 0.5);  % Number of points falled on the figure D\n",
    "area_est = ND / n;     % Estimate the area\n",
    "fprintf('The area of D is approximately %8.4f\\n',area_est) \n",
    "pi_est = 4 * area_est; % Estimate the number pi\n",
    "                       % Use the fact that |D| = pi^2 / 4\n",
    "fprintf('The number pi is approximately %8.4f\\n',pi_est) "
   ]
  },
  {
   "cell_type": "markdown",
   "id": "015b7641",
   "metadata": {},
   "source": [
    "### Example 3:\n",
    "\n",
    "Sample n points in the unit square S = [0,1] x [0,1] and plot them. The points landed within the circle D inscribed in S are plotted in blue."
   ]
  },
  {
   "cell_type": "code",
   "execution_count": 3,
   "id": "590f0147",
   "metadata": {},
   "outputs": [
    {
     "data": {
      "image/png": "[encoded data removed]",
      "text/plain": [
       "<IPython.core.display.Image object>"
      ]
     },
     "metadata": {},
     "output_type": "display_data"
    }
   ],
   "source": [
    "%% Let D be a circle inscribed in the unit square S = [0,1] x [0,1]\n",
    "%% Drop n random points uniformly distributed on S and plot them\n",
    "n = 500;              % The number of points\n",
    "Points = rand(n,2);   % Coordinates of the points sampled from Unif[0,1]\n",
    "Dist = sqrt( (Points(:,1)-0.5).^2 + (Points(:,2)-0.5).^2 );  \n",
    "                      % Distance from the center (0.5,0.5) \n",
    "IndPinD = Dist < 0.5; % Indicator of points fallen on the figure D\n",
    "plot( [0,1,1,0], [0,0,1,1], '-k' );  % Draw the square S\n",
    "hold on                     % Hold the plot to include other elements\n",
    "phi = linspace(0,2*pi,100); % Generate angles for ploting the circle\n",
    "plot( 0.5+0.5*cos(phi), 0.5+0.5*sin(phi), '-r'); \n",
    "                            % Plot the circle\n",
    "plot( Points(IndPinD,1), Points(IndPinD,2), '*b'); \n",
    "                            % Plot the points fallen on D\n",
    "plot( Points(not(IndPinD),1), Points(not(IndPinD),2), '.k'); \n",
    "                            % Plot the points landed outside of D\n",
    "hold off"
   ]
  },
  {
   "cell_type": "markdown",
   "id": "7fa68edb-eec0-4c41-913d-f21bc6b6379f",
   "metadata": {},
   "source": [
    "## 2 Classic Limit Theorems\n",
    "\n",
    "### Example 4:\n",
    "\n",
    "The Law of Large Numbers (LLN) llies in the foundation of Monte Carlo methods. Kolmogorov's Strong LLN states that the arithmetic average of iid random variable with common finite mean converges to the mean value almost surely as the number of variables grows:\n",
    "\n",
    "$$\\overline{X}_n := \\frac{1}{n}\\sum_{k=1}^n X_k \\overset{\\text{a.s.}}{\\to} \\mathrm{E}[X] \\;\\text{as}\\;n\\to \\infty\\\\ \\text{ where }\\;\\{X_k\\}_{k\\geq 1}\\;\\text{are iid random variables with finite mean}\\; \\mathrm{E}[X]$$"
   ]
  },
  {
   "cell_type": "code",
   "execution_count": 4,
   "id": "0a4cf740-166f-4f46-8fdc-49787a339b0c",
   "metadata": {},
   "outputs": [
    {
     "data": {
      "image/png": "[encoded data removed]",
      "text/plain": [
       "<IPython.core.display.Image object>"
      ]
     },
     "metadata": {},
     "output_type": "display_data"
    }
   ],
   "source": [
    "%% Generate n samples drawn from Norm(a,b^2)\n",
    "%% Demonstrate the convergence of the sample mean to the true mean\n",
    "n = 10000;        % The number of samples\n",
    "a = 5;            % The mean of the normal distribution\n",
    "b = 2;            % The standard deviation of the distribution\n",
    "XVals = a+b*randn(n,1);            % Sample values drawn from Norm(a,b^2)\n",
    "CumSumVals = cumsum(XVals);        % Cumulative sums of sample values\n",
    "SamplMean = CumSumVals ./ (1:n)';  % Sample means\n",
    "nVals = 10:50:n;                   % Sample sizes for plotting\n",
    "plot( nVals, SamplMean(nVals), '-b' );  \n",
    "                             % Plot the average vs the number of samples\n",
    "hold on                      % Hold the plot to include other elements\n",
    "plot( [1 n], [a a], '-k'  ); % Plot the true mean value\n",
    "hold off"
   ]
  },
  {
   "cell_type": "markdown",
   "id": "4f95f2da",
   "metadata": {},
   "source": [
    "### Example 5:\n",
    "\n",
    "The Central Limit Theorem (CLT) allows for estimating an approximation error caused by using the sample mean to approximate the true mean:\n",
    "\n",
    "$$\\frac{\\overline{X}_n-\\mu_X}{\\sigma_X\\sqrt{n}}\\overset{p}{\\to}\\mathrm{Norm}(0,1) \\; \\text{as}\\;n\\to\\infty\\\\\\text{ where }\\;\\mu_X:=\\mathrm{E}[X] \\; \\text{and} \\; \\sigma^2_X:=\\mathrm{Var}(X)$$"
   ]
  },
  {
   "cell_type": "code",
   "execution_count": 5,
   "id": "b04da5d1",
   "metadata": {},
   "outputs": [
    {
     "data": {
      "image/png": "[encoded data removed]",
      "text/plain": [
       "<IPython.core.display.Image object>"
      ]
     },
     "metadata": {},
     "output_type": "display_data"
    }
   ],
   "source": [
    "%% Generate n samples drawn from Norm(a,b^2)\n",
    "%% Construct a sequence of 95% confidence intervals for the true mean\n",
    "%% Demonstrate the convergence of the endpoints to the true mean\n",
    "n = 20000;        % The number of samples\n",
    "a = 5;            % The mean of the normal distribution\n",
    "b = 2;            % The standard deviation of the distribution\n",
    "XVals = a+b*randn(n,1);            % Sample values drawn from Norm(a,b^2)\n",
    "CumSumVals = cumsum(XVals);        % Cumulative sums of sample values\n",
    "CumSumSqrVals = cumsum(XVals.^2);  % Cumulative sums of squares \n",
    "SamplMean = CumSumVals ./ (1:n)';  % Sample means\n",
    "SamplStdDev = CumSumSqrVals ./ (1:n)' - SamplMean.^2; \n",
    "                                   % Sample standard deviations\n",
    "LeftEndPoint = SamplMean - 1.96*SamplStdDev./sqrt((1:n)');\n",
    "RightEndPoint = SamplMean + 1.96*SamplStdDev./sqrt((1:n)');\n",
    "                                   % Endpoints of confidence intervals\n",
    "nVals = 100:50:n;                  % Sample sizes for plotting\n",
    "plot( nVals, SamplMean(nVals), '-b');  \n",
    "                       % Plot the average vs the number of samples\n",
    "hold on                % Hold the plot to include other elements\n",
    "plot( nVals, LeftEndPoint(nVals), '-r' );  \n",
    "plot( nVals, RightEndPoint(nVals), '-r' );  \n",
    "                       % Plot endpoints of confidence intervals\n",
    "plot( [1 n], [a a], '-b' );  % Plot the true mean value\n",
    "hold off"
   ]
  },
  {
   "cell_type": "code",
   "execution_count": null,
   "id": "e1f20c41-3c56-45c7-b4cc-5fae2cd04cca",
   "metadata": {},
   "outputs": [],
   "source": []
  }
 ],
 "metadata": {
  "kernelspec": {
   "display_name": "Octave",
   "language": "octave",
   "name": "octave"
  },
  "language_info": {
   "file_extension": ".m",
   "help_links": [
    {
     "text": "GNU Octave",
     "url": "https://www.gnu.org/software/octave/support.html"
    },
    {
     "text": "Octave Kernel",
     "url": "https://github.com/Calysto/octave_kernel"
    },
    {
     "text": "MetaKernel Magics",
     "url": "https://metakernel.readthedocs.io/en/latest/source/README.html"
    }
   ],
   "mimetype": "text/x-octave",
   "name": "octave",
   "version": "8.3.0"
  }
 },
 "nbformat": 4,
 "nbformat_minor": 5
}
