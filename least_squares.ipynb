{
 "cells": [
  {
   "cell_type": "markdown",
   "id": "b03ab9da-ea49-4986-8729-ca1bfde19631",
   "metadata": {},
   "source": [
    "# Least Squares Curve Fitting"
   ]
  },
  {
   "cell_type": "code",
   "execution_count": 1,
   "id": "27e5c3dc-4638-4bf6-b372-94cda60b0853",
   "metadata": {},
   "outputs": [
    {
     "name": "stdout",
     "output_type": "stream",
     "text": [
      "error: graphics_toolkit: qt toolkit is not available\n",
      "error: called from\n",
      "    graphics_toolkit at line 81 column 5\n",
      "\n"
     ]
    }
   ],
   "source": [
    "function C = lspoly(X,Y,M)\n",
    "% Fit an M-degree polynomial\n",
    "% Input     - X is the nx1 abscissa vector\n",
    "%           - Y is the nx1 ordinate vector\n",
    "%           - M is the degree of the least-squares polynomial\n",
    "% Output - C is the coefficient list for the polynomial\n",
    "\n",
    "n = length(X);\n",
    "B = zeros(1:M+1);\n",
    "F = zeros(n,M+1);\n",
    "\n",
    "%Fill the columns of F with the powers of X\n",
    "\n",
    "for k=1:M+1\n",
    "   F(:,k)=X.^(k-1);\n",
    "end\n",
    "\n",
    "%Solve the normal linear system \n",
    "\n",
    "A=F'*F;\n",
    "B=F'*Y;\n",
    "C=A\\B;\n",
    "C=flipud(C);\n",
    "\n",
    "end %function lspoly"
   ]
  },
  {
   "cell_type": "code",
   "execution_count": 2,
   "id": "a0f9371f-e3db-4967-a4ac-91013b7578cb",
   "metadata": {},
   "outputs": [],
   "source": [
    "function [X,Y] = generatedata(n,maxy)\n",
    "% Generate the data with uniform X from 0 to n\n",
    "% and random Y from 0 to maxy\n",
    "% n and maxy are positive integers\n",
    "X = [0:1:n]';\n",
    "Y = fix(rand(n+1,1)*(maxy+1));\n",
    "end %function generatedata"
   ]
  },
  {
   "cell_type": "code",
   "execution_count": 10,
   "id": "08a7991f-9c2a-4fc9-9c3c-7b80b53e6d6e",
   "metadata": {},
   "outputs": [],
   "source": [
    "function plotlscurves(X,Y)\n",
    "%Input   - X is a vector that contains a list of abscissas\n",
    "%        - Y is a vector that contains a list of ordinates\n",
    "    clf;\n",
    "    axis([min(X) max(X) min(Y)-1 max(Y)+1]);\n",
    "    hold on\n",
    "    XP = linspace(min(X),max(X),101);\n",
    "    \n",
    "    LSC1 = lspoly(X,Y,1);  %fit a line\n",
    "    LSC2 = lspoly(X,Y,3);  %fit a cubic polynomial\n",
    "    LSC3 = lspoly(X,Y,5);  %fit a degree-5 polynomial\n",
    "    cla;\n",
    "    plot(X,Y,'ro');\n",
    "    legdata={'Data'};\n",
    "    plot(XP,polyval(LSC1,XP),'k-');\n",
    "    legdata=[legdata,{'LS Line'}];\n",
    "    plot(XP,polyval(LSC2,XP),'g-');\n",
    "    legdata=[legdata,{'LS Cubic'}];\n",
    "    plot(XP,polyval(LSC3,XP),'b-');\n",
    "    legdata=[legdata,{'LS Degree-5'}];\n",
    "    legend(legdata,'FontSize',12,\"location\", \"northeast\");\n",
    "end %function plotlscurves"
   ]
  },
  {
   "cell_type": "code",
   "execution_count": 4,
   "id": "ac534c00-15ac-4b77-b81a-6a758b473fbd",
   "metadata": {},
   "outputs": [],
   "source": [
    "[X,Y] = generatedata(10,3);  %Create the data set"
   ]
  },
  {
   "cell_type": "code",
   "execution_count": 5,
   "id": "fcfe8d48-ffdd-4633-bfcf-dd5a7942079a",
   "metadata": {},
   "outputs": [
    {
     "name": "stdout",
     "output_type": "stream",
     "text": [
      "LSC1 =\n",
      "\n",
      "   0.045455\n",
      "   1.136364\n",
      "\n"
     ]
    }
   ],
   "source": [
    "LSC1 = lspoly(X,Y,1)  %fit a line"
   ]
  },
  {
   "cell_type": "code",
   "execution_count": 6,
   "id": "57128e22-c812-4f71-88ef-41695336b44b",
   "metadata": {},
   "outputs": [
    {
     "name": "stdout",
     "output_type": "stream",
     "text": [
      "LSC1 =\n",
      "\n",
      "  -0.0034965\n",
      "   0.0804196\n",
      "   1.0839161\n",
      "\n"
     ]
    }
   ],
   "source": [
    "LSC1 = lspoly(X,Y,2)  %fit a parabola"
   ]
  },
  {
   "cell_type": "code",
   "execution_count": 11,
   "id": "7c705da2-63f7-4c13-bf9a-4a65366cb456",
   "metadata": {},
   "outputs": [
    {
     "data": {
      "image/png": "[encoded data removed]",
      "text/plain": [
       "<IPython.core.display.Image object>"
      ]
     },
     "metadata": {},
     "output_type": "display_data"
    }
   ],
   "source": [
    "plotlscurves(X,Y) %Plot the data along with the splines"
   ]
  },
  {
   "cell_type": "code",
   "execution_count": null,
   "id": "64f0bffc-94bc-46a4-87cc-4b8047563e50",
   "metadata": {},
   "outputs": [],
   "source": []
  }
 ],
 "metadata": {
  "kernelspec": {
   "display_name": "Octave",
   "language": "octave",
   "name": "octave"
  },
  "language_info": {
   "file_extension": ".m",
   "help_links": [
    {
     "text": "GNU Octave",
     "url": "https://www.gnu.org/software/octave/support.html"
    },
    {
     "text": "Octave Kernel",
     "url": "https://github.com/Calysto/octave_kernel"
    },
    {
     "text": "MetaKernel Magics",
     "url": "https://metakernel.readthedocs.io/en/latest/source/README.html"
    }
   ],
   "mimetype": "text/x-octave",
   "name": "octave",
   "version": "5.2.0"
  }
 },
 "nbformat": 4,
 "nbformat_minor": 5
}
