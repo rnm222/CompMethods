{
 "cells": [
  {
   "cell_type": "markdown",
   "id": "b03ab9da-ea49-4986-8729-ca1bfde19631",
   "metadata": {},
   "source": [
    "# Interpolation Splines"
   ]
  },
  {
   "cell_type": "code",
   "execution_count": 1,
   "id": "a0f9371f-e3db-4967-a4ac-91013b7578cb",
   "metadata": {},
   "outputs": [
    {
     "name": "stdout",
     "output_type": "stream",
     "text": [
      "error: graphics_toolkit: qt toolkit is not available\n",
      "error: called from\n",
      "    graphics_toolkit at line 81 column 5\n",
      "\n"
     ]
    }
   ],
   "source": [
    "function [X,Y] = generatedata(n,maxy)\n",
    "% Generate the data with uniform X from 0 to n\n",
    "% and random Y from 0 to maxy\n",
    "% n and maxy are positive integers\n",
    "X = [0:1:n]';\n",
    "Y = fix(rand(n+1,1)*(maxy+1));\n",
    "end %function generatedata"
   ]
  },
  {
   "cell_type": "code",
   "execution_count": 2,
   "id": "08a7991f-9c2a-4fc9-9c3c-7b80b53e6d6e",
   "metadata": {},
   "outputs": [],
   "source": [
    "function plotspline(X,Y)\n",
    "%Input   - X is a vector that contains a list of abscissas\n",
    "%        - Y is a vector that contains a list of ordinates\n",
    "    clf;\n",
    "    axis([min(X) max(X) min(Y)-1 max(Y)+1]);\n",
    "    hold on\n",
    "    XP = linspace(min(X),max(X),101);\n",
    "    \n",
    "    YL = interp1(X,Y,XP,'linear');\n",
    "    cs1 = spline(X,Y); %not-a-knot\n",
    "    YS1 = ppval(cs1,XP);\n",
    "    cs2 = spline(X,[1; Y; -1]); %clamped\n",
    "    YS2 = ppval(cs2,XP);\n",
    "    cla;\n",
    "    plot(X,Y,'ro');\n",
    "    legdata={'Data'};\n",
    "    plot(XP,YL,'k-');\n",
    "    legdata=[legdata,{'Piecewise Linear Spline'}];\n",
    "    plot(XP,YS1,'b-');\n",
    "    legdata=[legdata,{'Not-a-Knot Cubic Spline'}];\n",
    "    plot(XP,YS2,'m-');\n",
    "    legdata=[legdata,{'Clamped Cubic Spline'}];\n",
    "    legend(legdata,'FontSize',12,\"location\", \"northeast\");\n",
    "end %function plotspline"
   ]
  },
  {
   "cell_type": "code",
   "execution_count": 3,
   "id": "ac534c00-15ac-4b77-b81a-6a758b473fbd",
   "metadata": {},
   "outputs": [],
   "source": [
    "[X,Y] = generatedata(10,8);  %Create the data set"
   ]
  },
  {
   "cell_type": "code",
   "execution_count": 4,
   "id": "7c705da2-63f7-4c13-bf9a-4a65366cb456",
   "metadata": {},
   "outputs": [
    {
     "data": {
      "image/png": "[encoded data removed]",
      "text/plain": [
       "<IPython.core.display.Image object>"
      ]
     },
     "metadata": {},
     "output_type": "display_data"
    }
   ],
   "source": [
    "plotspline(X,Y) %Plot the data along with the splines"
   ]
  },
  {
   "cell_type": "code",
   "execution_count": null,
   "id": "64f0bffc-94bc-46a4-87cc-4b8047563e50",
   "metadata": {},
   "outputs": [],
   "source": []
  }
 ],
 "metadata": {
  "kernelspec": {
   "display_name": "Octave",
   "language": "octave",
   "name": "octave"
  },
  "language_info": {
   "file_extension": ".m",
   "help_links": [
    {
     "text": "GNU Octave",
     "url": "https://www.gnu.org/software/octave/support.html"
    },
    {
     "text": "Octave Kernel",
     "url": "https://github.com/Calysto/octave_kernel"
    },
    {
     "text": "MetaKernel Magics",
     "url": "https://metakernel.readthedocs.io/en/latest/source/README.html"
    }
   ],
   "mimetype": "text/x-octave",
   "name": "octave",
   "version": "5.2.0"
  }
 },
 "nbformat": 4,
 "nbformat_minor": 5
}
