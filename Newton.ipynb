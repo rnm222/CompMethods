{
 "cells": [
  {
   "cell_type": "markdown",
   "id": "8c01df25-3a3a-4a02-8e06-60276375808f",
   "metadata": {},
   "source": [
    "# Newton Method"
   ]
  },
  {
   "cell_type": "code",
   "execution_count": 1,
   "id": "6d746120-af13-4b24-854b-85707b602947",
   "metadata": {},
   "outputs": [
    {
     "name": "stdout",
     "output_type": "stream",
     "text": [
      "error: graphics_toolkit: qt toolkit is not available\n",
      "error: called from\n",
      "    graphics_toolkit at line 81 column 5\n",
      "\n"
     ]
    }
   ],
   "source": [
    "function [x0,err,k,y] = newton(f,df,x0,delta,epsilon,max1)\n",
    "\n",
    "%Input    - f is the object function \n",
    "%            - df is the derivative of f \n",
    "%            - x0 is the initial approximation to a zero of f\n",
    "%\t         - delta is the tolerance for p0\n",
    "%\t         - epsilon is the tolerance for the function values y\n",
    "%\t         - max1 is the maximum number of iterations\n",
    "%Output - x0 is the Newton-Raphson approximation to the zero\n",
    "%\t         - err is the error estimate for p0\n",
    "%\t         - k is the number of iterations\n",
    "%\t         - y is the function value f(p0)\n",
    "\n",
    "%If f and df are defined as M-file functions use the @ notation\n",
    "% call [x0,err,k,y]=newton(@f,@df,x0,delta,epsilon,max1).\n",
    "%If f and df are defined as anonymous functions use the\n",
    "% call  [x0,err,k,y]=newton(f,df,x0,delta,epsilon,max1).\n",
    "\n",
    "fprintf('%3d  %12.8f  %12.3e \\n',0,x0,f(x0))\n",
    "\n",
    "for k = 1:max1\t\n",
    "\tx1 = x0 - f(x0) / df(x0);\t\n",
    "\terr = abs(x1-x0);\n",
    "\trelerr = 2*err / (abs(x1)+delta);\n",
    "\tx0 = x1;\n",
    "\ty = f(x0);\n",
    "    fprintf('%3d  %12.8f  %12.3e \\n',k,x0,y)\n",
    "\tif (err<delta || relerr<delta || y<epsilon), break, end\n",
    "end\n",
    "\n",
    "end %function"
   ]
  },
  {
   "cell_type": "markdown",
   "id": "e696c833-8087-4029-a58f-0e0eb9791d6a",
   "metadata": {},
   "source": [
    "# Compute the square root of 2"
   ]
  },
  {
   "cell_type": "code",
   "execution_count": 2,
   "id": "6ea3b95c-e998-44d9-aea6-8a88f336dfc9",
   "metadata": {},
   "outputs": [
    {
     "name": "stdout",
     "output_type": "stream",
     "text": [
      "  0    1.00000000    -1.000e+00 \n",
      "  1    1.50000000     2.500e-01 \n",
      "  2    1.41666667     6.944e-03 \n",
      "  3    1.41421569     6.007e-06 \n",
      "  4    1.41421356     4.511e-12 \n",
      "p0 =  1.4142\n",
      "err =  0.0000021239\n",
      "k =  4\n",
      "y =    4.5106e-12\n"
     ]
    }
   ],
   "source": [
    "[p,err,k,y] = newton(@(x) x^2 - 2, @(x) 2*x, 1, 0.001, 10^-6, 10)"
   ]
  },
  {
   "cell_type": "code",
   "execution_count": null,
   "id": "cf87a780-4995-4c5b-a2b7-3571882a2237",
   "metadata": {},
   "outputs": [],
   "source": []
  }
 ],
 "metadata": {
  "kernelspec": {
   "display_name": "Octave",
   "language": "octave",
   "name": "octave"
  },
  "language_info": {
   "file_extension": ".m",
   "help_links": [
    {
     "text": "GNU Octave",
     "url": "https://www.gnu.org/software/octave/support.html"
    },
    {
     "text": "Octave Kernel",
     "url": "https://github.com/Calysto/octave_kernel"
    },
    {
     "text": "MetaKernel Magics",
     "url": "https://metakernel.readthedocs.io/en/latest/source/README.html"
    }
   ],
   "mimetype": "text/x-octave",
   "name": "octave",
   "version": "5.2.0"
  }
 },
 "nbformat": 4,
 "nbformat_minor": 5
}
