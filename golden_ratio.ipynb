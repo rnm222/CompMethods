{
 "cells": [
  {
   "cell_type": "markdown",
   "id": "10e29b54-89ec-44bd-bd77-f78b5f43b651",
   "metadata": {},
   "source": [
    "# Golden Ratio Search Method"
   ]
  },
  {
   "cell_type": "code",
   "execution_count": 1,
   "id": "bdac3196-df5f-425f-912f-9466fbd1bd5e",
   "metadata": {},
   "outputs": [
    {
     "name": "stdout",
     "output_type": "stream",
     "text": [
      "warning: using the gnuplot graphics toolkit is discouraged\n",
      "\n",
      "The gnuplot graphics toolkit is not actively maintained and has a number\n",
      "of limitations that are unlikely to be fixed.  Communication with gnuplot\n",
      "uses a one-directional pipe and limited information is passed back to the\n",
      "Octave interpreter so most changes made interactively in the plot window\n",
      "will not be reflected in the graphics properties managed by Octave.  For\n",
      "example, if the plot window is closed with a mouse click, Octave will not\n",
      "be notified and will not update its internal list of open figure windows.\n",
      "The qt toolkit is recommended instead.\n",
      "\n"
     ]
    }
   ],
   "source": [
    "function min_point = golden_ratio_search(f, a, b, tolerance)\n",
    "    % Golden Ratio Search Method\n",
    "    gr = (sqrt(5) - 1) / 2; % Golden ratio\n",
    "    c = b - gr * (b - a);\n",
    "    d = a + gr * (b - a);\n",
    "\n",
    "    while abs(b - a) > tolerance\n",
    "        fprintf('Current bracket: [%f, %f]\\n', a, b);\n",
    "        if f(c) < f(d)\n",
    "            fprintf('Function at c is less than at d, so move b to d\\n');\n",
    "            b = d;\n",
    "            d = c;\n",
    "            c = b - gr * (b - a);\n",
    "        else\n",
    "            fprintf('Function at d is less than or equal to at c, so move a to c\\n');\n",
    "            a = c;\n",
    "            c = d;\n",
    "            d = a + gr * (b - a);\n",
    "        end\n",
    "        fprintf('New bracket: [%f, %f]\\n\\n', a, b);\n",
    "    end\n",
    "\n",
    "    min_point = (b + a) / 2;\n",
    "end"
   ]
  },
  {
   "cell_type": "code",
   "execution_count": 2,
   "id": "4eb5bdee-6973-4dec-9200-b7e6e5e8dc53",
   "metadata": {},
   "outputs": [],
   "source": [
    "% Define the function to find the minimum\n",
    "f = @(x) x .* sin(x) + x .* cos(2 * x);"
   ]
  },
  {
   "cell_type": "code",
   "execution_count": 3,
   "id": "4cf7fabd-e373-4f78-9950-36b6caefdcd9",
   "metadata": {},
   "outputs": [],
   "source": [
    "% Parameters for the search\n",
    "a = 2; % Start of interval\n",
    "b = 8; % End of interval\n",
    "tolerance = 0.001; % Tolerance"
   ]
  },
  {
   "cell_type": "code",
   "execution_count": 4,
   "id": "8a259efa-35c3-4a92-bfb5-59305eebddb1",
   "metadata": {},
   "outputs": [
    {
     "name": "stdout",
     "output_type": "stream",
     "text": [
      "Current bracket: [2.000000, 8.000000]\n",
      "Function at c is less than at d, so move b to d\n",
      "New bracket: [2.000000, 5.708204]\n",
      "\n",
      "Current bracket: [2.000000, 5.708204]\n",
      "Function at d is less than or equal to at c, so move a to c\n",
      "New bracket: [3.416408, 5.708204]\n",
      "\n",
      "Current bracket: [3.416408, 5.708204]\n",
      "Function at d is less than or equal to at c, so move a to c\n",
      "New bracket: [4.291796, 5.708204]\n",
      "\n",
      "Current bracket: [4.291796, 5.708204]\n",
      "Function at c is less than at d, so move b to d\n",
      "New bracket: [4.291796, 5.167184]\n",
      "\n",
      "Current bracket: [4.291796, 5.167184]\n",
      "Function at d is less than or equal to at c, so move a to c\n",
      "New bracket: [4.626165, 5.167184]\n",
      "\n",
      "Current bracket: [4.626165, 5.167184]\n",
      "Function at c is less than at d, so move b to d\n",
      "New bracket: [4.626165, 4.960533]\n",
      "\n",
      "Current bracket: [4.626165, 4.960533]\n",
      "Function at d is less than or equal to at c, so move a to c\n",
      "New bracket: [4.753882, 4.960533]\n",
      "\n",
      "Current bracket: [4.753882, 4.960533]\n",
      "Function at c is less than at d, so move b to d\n",
      "New bracket: [4.753882, 4.881599]\n",
      "\n",
      "Current bracket: [4.753882, 4.881599]\n",
      "Function at c is less than at d, so move b to d\n",
      "New bracket: [4.753882, 4.832816]\n",
      "\n",
      "Current bracket: [4.753882, 4.832816]\n",
      "Function at d is less than or equal to at c, so move a to c\n",
      "New bracket: [4.784032, 4.832816]\n",
      "\n",
      "Current bracket: [4.784032, 4.832816]\n",
      "Function at c is less than at d, so move b to d\n",
      "New bracket: [4.784032, 4.814182]\n",
      "\n",
      "Current bracket: [4.784032, 4.814182]\n",
      "Function at c is less than at d, so move b to d\n",
      "New bracket: [4.784032, 4.802666]\n",
      "\n",
      "Current bracket: [4.784032, 4.802666]\n",
      "Function at d is less than or equal to at c, so move a to c\n",
      "New bracket: [4.791149, 4.802666]\n",
      "\n",
      "Current bracket: [4.791149, 4.802666]\n",
      "Function at c is less than at d, so move b to d\n",
      "New bracket: [4.791149, 4.798267]\n",
      "\n",
      "Current bracket: [4.791149, 4.798267]\n",
      "Function at d is less than or equal to at c, so move a to c\n",
      "New bracket: [4.793868, 4.798267]\n",
      "\n",
      "Current bracket: [4.793868, 4.798267]\n",
      "Function at c is less than at d, so move b to d\n",
      "New bracket: [4.793868, 4.796587]\n",
      "\n",
      "Current bracket: [4.793868, 4.796587]\n",
      "Function at d is less than or equal to at c, so move a to c\n",
      "New bracket: [4.794907, 4.796587]\n",
      "\n",
      "Current bracket: [4.794907, 4.796587]\n",
      "Function at c is less than at d, so move b to d\n",
      "New bracket: [4.794907, 4.795945]\n",
      "\n",
      "Current bracket: [4.794907, 4.795945]\n",
      "Function at c is less than at d, so move b to d\n",
      "New bracket: [4.794907, 4.795548]\n",
      "\n",
      "The minimum point is approximately at x = 4.795227\n"
     ]
    }
   ],
   "source": [
    "% Find the minimum\n",
    "min_point = golden_ratio_search(f, a, b, tolerance);\n",
    "fprintf('The minimum point is approximately at x = %f\\n', min_point);"
   ]
  },
  {
   "cell_type": "code",
   "execution_count": 5,
   "id": "3433e29d-6709-4bc9-bffa-7bd079c81cac",
   "metadata": {},
   "outputs": [
    {
     "data": {
      "image/png": "[encoded data removed]",
      "text/plain": [
       "<IPython.core.display.Image object>"
      ]
     },
     "metadata": {},
     "output_type": "display_data"
    }
   ],
   "source": [
    "xv = linspace(a-1, b+1, 100);\n",
    "yv = arrayfun(f, xv);\n",
    "plot(xv,yv,'b-',min_point,f(min_point),'ro');\n",
    "legend('f(x)', 'Minimum');\n"
   ]
  },
  {
   "cell_type": "code",
   "execution_count": null,
   "id": "b593f7e8-9c5a-4715-811a-ddace89908c5",
   "metadata": {},
   "outputs": [],
   "source": []
  }
 ],
 "metadata": {
  "kernelspec": {
   "display_name": "Octave",
   "language": "octave",
   "name": "octave"
  },
  "language_info": {
   "file_extension": ".m",
   "help_links": [
    {
     "text": "GNU Octave",
     "url": "https://www.gnu.org/software/octave/support.html"
    },
    {
     "text": "Octave Kernel",
     "url": "https://github.com/Calysto/octave_kernel"
    },
    {
     "text": "MetaKernel Magics",
     "url": "https://metakernel.readthedocs.io/en/latest/source/README.html"
    }
   ],
   "mimetype": "text/x-octave",
   "name": "octave",
   "version": "8.3.0"
  }
 },
 "nbformat": 4,
 "nbformat_minor": 5
}
