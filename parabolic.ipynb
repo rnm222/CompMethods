{
 "cells": [
  {
   "cell_type": "markdown",
   "id": "fcfdd672-0749-4cfa-81f8-7d751696a073",
   "metadata": {},
   "source": [
    "# Successive Parabolic Interpolation Method"
   ]
  },
  {
   "cell_type": "code",
   "execution_count": 1,
   "id": "731aa967-8c99-40ac-b62f-cd9ab1869368",
   "metadata": {},
   "outputs": [
    {
     "name": "stdout",
     "output_type": "stream",
     "text": [
      "warning: using the gnuplot graphics toolkit is discouraged\n",
      "\n",
      "The gnuplot graphics toolkit is not actively maintained and has a number\n",
      "of limitations that are unlikely to be fixed.  Communication with gnuplot\n",
      "uses a one-directional pipe and limited information is passed back to the\n",
      "Octave interpreter so most changes made interactively in the plot window\n",
      "will not be reflected in the graphics properties managed by Octave.  For\n",
      "example, if the plot window is closed with a mouse click, Octave will not\n",
      "be notified and will not update its internal list of open figure windows.\n",
      "The qt toolkit is recommended instead.\n",
      "\n"
     ]
    }
   ],
   "source": [
    "function [xmin, fmin, iter] = parabolic_interpolation_search(func, x1, x2, x3, tolerance)\n",
    "    % Initialize variables\n",
    "    iter = 0; % Iteration counter\n",
    "    while abs(x3 - x1) > tolerance\n",
    "        % Calculate function values\n",
    "        f1 = func(x1); f2 = func(x2); f3 = func(x3);\n",
    "        \n",
    "        % Parabolic interpolation formula\n",
    "        numerator = (x2 - x1)^2 * (f2 - f3) - (x2 - x3)^2 * (f2 - f1);\n",
    "        denominator = (x2 - x1) * (f2 - f3) - (x2 - x3) * (f2 - f1);\n",
    "        x0 = x2 - 0.5 * numerator / denominator;\n",
    "\n",
    "        % Plot the first parabolic interpolation\n",
    "        if iter == 0\n",
    "            x123 = [x1 x2 x3];\n",
    "            f123 = [f1 f2 f3];\n",
    "            % Create a range of x values for plotting\n",
    "            xv = linspace(min(x123)-1, max(x123)+1, 100);\n",
    "            fv = arrayfun(func, xv);\n",
    "            % Fit a parabolic (second-degree) polynomial to these points\n",
    "            coeffs = polyfit(x123, f123, 2);\n",
    "            % Evaluate the polynomial at these x values\n",
    "            pv = polyval(coeffs, xv);\n",
    "            plot(xv, fv, 'b-', xv, pv, 'r--',x1, f1, 'go', x2, f2, 'go', x3, f3, 'go');\n",
    "            title('First Parabolic Interpolation');\n",
    "            xlabel('x');\n",
    "            ylabel('f(x)');\n",
    "            legend('f(x)', 'p(x)', 'Interpolation Points');\n",
    "            drawnow;\n",
    "        end\n",
    "        % Print current approximation and decision\n",
    "        fprintf('Iteration %d: x1 = %f, x2 = %f, x3 = %f, New approximation x0 = %f\\n', iter, x1, x2, x3, x0);\n",
    "        \n",
    "        % Update points\n",
    "        if x0 < x2\n",
    "            if func(x0) < f2\n",
    "                x3 = x2;\n",
    "                x2 = x0;\n",
    "            else\n",
    "                x1 = x0;\n",
    "            end\n",
    "        else\n",
    "            if func(x0) < f2\n",
    "                x1 = x2;\n",
    "                x2 = x0;\n",
    "            else\n",
    "                x3 = x0;\n",
    "            end\n",
    "        end\n",
    "        \n",
    "        % Increment iteration counter\n",
    "        iter = iter + 1;\n",
    "        \n",
    "    end\n",
    "   % Final minimum and function value\n",
    "    xmin = x2;\n",
    "    fmin = func(x2);\n",
    "    fprintf('Minimum found at x = %f with f(x) = %f\\n', xmin, fmin);\n",
    "end    "
   ]
  },
  {
   "cell_type": "code",
   "execution_count": 2,
   "id": "fc4e6d8e-c55d-486e-8abe-5603f72f12ea",
   "metadata": {},
   "outputs": [],
   "source": [
    "f = @(x) x * sin(x) + x * cos(2 * x);\n",
    "\n",
    "% Initial guesses and tolerance\n",
    "x1 = 2;\n",
    "x2 = 5;\n",
    "x3 = 8;\n",
    "tolerance = 0.00001;"
   ]
  },
  {
   "cell_type": "code",
   "execution_count": 3,
   "id": "6e51bd2e-79a7-47bc-a54a-0955d35cfbf0",
   "metadata": {},
   "outputs": [
    {
     "name": "stdout",
     "output_type": "stream",
     "text": [
      "Iteration 0: x1 = 2.000000, x2 = 5.000000, x3 = 8.000000, New approximation x0 = 5.020623\n",
      "Iteration 1: x1 = 2.000000, x2 = 5.000000, x3 = 5.020623, New approximation x0 = 4.064226\n",
      "Iteration 2: x1 = 4.064226, x2 = 5.000000, x3 = 5.020623, New approximation x0 = 4.763232\n",
      "Iteration 3: x1 = 4.064226, x2 = 4.763232, x3 = 5.000000, New approximation x0 = 4.776523\n",
      "Iteration 4: x1 = 4.763232, x2 = 4.776523, x3 = 5.000000, New approximation x0 = 4.795115\n",
      "Iteration 5: x1 = 4.776523, x2 = 4.795115, x3 = 5.000000, New approximation x0 = 4.795303\n",
      "Iteration 6: x1 = 4.795115, x2 = 4.795303, x3 = 5.000000, New approximation x0 = 4.795407\n",
      "Iteration 7: x1 = 4.795303, x2 = 4.795407, x3 = 5.000000, New approximation x0 = 4.795408\n",
      "Iteration 8: x1 = 4.795407, x2 = 4.795408, x3 = 5.000000, New approximation x0 = 4.795409\n",
      "Iteration 9: x1 = 4.795408, x2 = 4.795409, x3 = 5.000000, New approximation x0 = 4.795409\n",
      "Iteration 10: x1 = 4.795409, x2 = 4.795409, x3 = 5.000000, New approximation x0 = 4.795409\n",
      "Minimum found at x = 4.795409 with f(x) = -9.508350\n"
     ]
    },
    {
     "data": {
      "image/png": "[encoded data removed]",
      "text/plain": [
       "<IPython.core.display.Image object>"
      ]
     },
     "metadata": {},
     "output_type": "display_data"
    }
   ],
   "source": [
    "% Find the minimum using parabolic interpolation\n",
    "[xmin, fmin, iter] = parabolic_interpolation_search(f, x1, x2, x3, tolerance);"
   ]
  },
  {
   "cell_type": "code",
   "execution_count": null,
   "id": "cbeef03b-b28b-4ca1-997d-e79cd2e3170b",
   "metadata": {},
   "outputs": [],
   "source": []
  }
 ],
 "metadata": {
  "kernelspec": {
   "display_name": "Octave",
   "language": "octave",
   "name": "octave"
  },
  "language_info": {
   "file_extension": ".m",
   "help_links": [
    {
     "text": "GNU Octave",
     "url": "https://www.gnu.org/software/octave/support.html"
    },
    {
     "text": "Octave Kernel",
     "url": "https://github.com/Calysto/octave_kernel"
    },
    {
     "text": "MetaKernel Magics",
     "url": "https://metakernel.readthedocs.io/en/latest/source/README.html"
    }
   ],
   "mimetype": "text/x-octave",
   "name": "octave",
   "version": "8.3.0"
  }
 },
 "nbformat": 4,
 "nbformat_minor": 5
}
