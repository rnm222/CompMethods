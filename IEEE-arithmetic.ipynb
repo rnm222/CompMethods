{
 "cells": [
  {
   "cell_type": "markdown",
   "id": "3e4a30d3-29ab-4c75-a7c5-eab1cf3cfd02",
   "metadata": {},
   "source": [
    "# A program that explores IEEE arithmetic"
   ]
  },
  {
   "cell_type": "code",
   "execution_count": 1,
   "id": "3c0e8e1e-a4e8-40fb-963b-238c9d79054f",
   "metadata": {},
   "outputs": [
    {
     "name": "stdout",
     "output_type": "stream",
     "text": [
      "error: graphics_toolkit: qt toolkit is not available\n",
      "error: called from\n",
      "    graphics_toolkit at line 81 column 5\n",
      "\n",
      " Take an exponential that is out of range...\n",
      " The exponential of    1000.0000  is           Inf \n",
      "\n"
     ]
    }
   ],
   "source": [
    "fprintf(' Take an exponential that is out of range...\\n');\n",
    "x = 1000; \n",
    "y = exp(x); \n",
    "fprintf(' The exponential of %12.4f  is  %12.4f \\n\\n', x, y);"
   ]
  },
  {
   "cell_type": "code",
   "execution_count": 2,
   "id": "e22afa49-28f2-4604-b0d9-73d196c98f82",
   "metadata": {},
   "outputs": [
    {
     "name": "stdout",
     "output_type": "stream",
     "text": [
      " Divide a normal number by infinity...\n",
      "   1.0000e+03  divided by          Inf gives   0.0000e+00 \n",
      "\n"
     ]
    }
   ],
   "source": [
    "fprintf(' Divide a normal number by infinity...\\n');\n",
    "z = x ./ y; \n",
    "fprintf(' %12.4e  divided by %12.4e gives %12.4e \\n\\n', x, y, z);"
   ]
  },
  {
   "cell_type": "code",
   "execution_count": 3,
   "id": "cbe23452-7108-4535-8e13-950f93a2e1f4",
   "metadata": {},
   "outputs": [
    {
     "name": "stdout",
     "output_type": "stream",
     "text": [
      " Divide infinity by infinity...\n",
      "          Inf  divided by          Inf gives          NaN \n",
      "\n"
     ]
    }
   ],
   "source": [
    "fprintf(' Divide infinity by infinity...\\n');\n",
    "w = y; \n",
    "z = w ./ y; \n",
    "fprintf(' %12.4e  divided by %12.4e gives %12.4e \\n\\n', w, y, z);"
   ]
  },
  {
   "cell_type": "code",
   "execution_count": 4,
   "id": "ae40739b-a37d-47b0-ad1e-bbf69333a450",
   "metadata": {},
   "outputs": [
    {
     "name": "stdout",
     "output_type": "stream",
     "text": [
      " Subtract infinity from infinity...\n",
      "          Inf  subtracted from          Inf gives          NaN \n",
      "\n"
     ]
    }
   ],
   "source": [
    "fprintf(' Subtract infinity from infinity...\\n');\n",
    "w = y; \n",
    "z = w - y; \n",
    "fprintf(' %12.4e  subtracted from %12.4e gives %12.4e \\n\\n', w, y, z);"
   ]
  },
  {
   "cell_type": "code",
   "execution_count": 5,
   "id": "2c89abfd-372f-4106-b20f-9bafc7ba820a",
   "metadata": {},
   "outputs": [
    {
     "name": "stdout",
     "output_type": "stream",
     "text": [
      " Add NaN to a normal number...\n",
      "   1.0000e+03  plus          NaN gives          NaN \n",
      "\n"
     ]
    }
   ],
   "source": [
    "fprintf(' Add NaN to a normal number...\\n');\n",
    "w = x + z ;\n",
    "fprintf(' %12.4e  plus %12.4e gives %12.4e \\n\\n', x, z, w);"
   ]
  },
  {
   "cell_type": "code",
   "execution_count": 6,
   "id": "19fc7b60-7a42-4e2f-a58e-4ebdd3c2337e",
   "metadata": {},
   "outputs": [
    {
     "name": "stdout",
     "output_type": "stream",
     "text": [
      " Truncate a very large double precision number...\n",
      " The single precision version of    2.6881e+43  is          Inf \n",
      "\n"
     ]
    }
   ],
   "source": [
    "fprintf(' Truncate a very large double precision number...\\n');\n",
    "yd = exp(100);\n",
    "ys = single(yd);\n",
    "fprintf(' The single precision version of  %12.4e  is %12.4e \\n\\n', yd, ys);"
   ]
  },
  {
   "cell_type": "code",
   "execution_count": 7,
   "id": "d02f8983-eb74-43b6-9b18-993bff7b0fd8",
   "metadata": {},
   "outputs": [
    {
     "name": "stdout",
     "output_type": "stream",
     "text": [
      " Explore the arithmetic, does addition commute?...\n",
      " Adding pairs of   9.2562e-01 ,   1.0093e+01 , and   1.5678e+01 commutes \n",
      "\n"
     ]
    }
   ],
   "source": [
    "fprintf(' Explore the arithmetic, does addition commute?...\\n');\n",
    "x = 1.1 .* sin(1.0); \n",
    "y = 11.1 .* sin(2.0); \n",
    "z = 111.1 .* sin(3.0); \n",
    "s1 = x + y; \n",
    "s2 = y + x; \n",
    "s3 = x + z; \n",
    "s4 = z + x;\n",
    "if and(  s1 == s2 , s3 == s4 ) \n",
    "  fprintf(' Adding pairs of %12.4e , %12.4e , and %12.4e commutes \\n\\n', x, y, z);\n",
    "else \n",
    "  fprintf(' Adding pairs of %12.4e , %12.4e , and %12.4e does not commute \\n\\n', x, y, z);\n",
    "end"
   ]
  },
  {
   "cell_type": "code",
   "execution_count": 8,
   "id": "5b6e8bd6-cd32-4bb6-92ee-08b450ca540b",
   "metadata": {},
   "outputs": [
    {
     "name": "stdout",
     "output_type": "stream",
     "text": [
      " Adding triples of   9.2562e-01 ,   1.0093e+01 , and   1.5678e+01 does not commute \n",
      "\n"
     ]
    }
   ],
   "source": [
    "s1 = x + y + z; \n",
    "s2 = y + z + x; \n",
    "s3 = z + x + y; \n",
    "if and( s1 == s2 , s2 == s3 )\n",
    "  fprintf(' Adding triples of %12.4e , %12.4e , and %12.4e commutes \\n\\n', x, y, z);\n",
    "else \n",
    "  fprintf(' Adding triples of %12.4e , %12.4e , and %12.4e does not commute \\n\\n', x, y, z);\n",
    "end"
   ]
  },
  {
   "cell_type": "code",
   "execution_count": 9,
   "id": "e0b0b1ff-3f7e-417a-a599-8bfdaeff3305",
   "metadata": {},
   "outputs": [
    {
     "name": "stdout",
     "output_type": "stream",
     "text": [
      " Do not expect other arithmetic identities to be exactly true...\n",
      " Divide   9.2562e-01 by 11 and did not get it back by addition!!! \n",
      "\n",
      " Divide   9.2562e-01 by 5 and got it back by multiplication!!! \n",
      "\n"
     ]
    }
   ],
   "source": [
    "fprintf(' Do not expect other arithmetic identities to be exactly true...\\n')\n",
    "z = x;\n",
    "x = z ./ 11; \n",
    "y = x + x + x + x + x + x + x + x + x + x + x; \n",
    "x = z ./ 5.0; \n",
    "w = 5 .* x; \n",
    "if ( y == z ) \n",
    "  fprintf(' Divide %12.4e by 11 and got it back by addition!!! \\n\\n', z);\n",
    "else \n",
    "  fprintf(' Divide %12.4e by 11 and did not get it back by addition!!! \\n\\n', z);\n",
    "end\n",
    "if ( w == z )  \n",
    "  fprintf(' Divide %12.4e by 5 and got it back by multiplication!!! \\n\\n', z);\n",
    "else \n",
    "  fprintf(' Divide %12.4e by 5 and did not get it back by multiplication!!! \\n\\n', z);\n",
    "end"
   ]
  },
  {
   "cell_type": "markdown",
   "id": "f0d3515e-9e3a-4a46-8b77-26e1b4586470",
   "metadata": {},
   "source": [
    "# Computing Machine Precision"
   ]
  },
  {
   "cell_type": "code",
   "execution_count": 10,
   "id": "d6841196-ef40-4bab-9126-460e96f9c988",
   "metadata": {},
   "outputs": [
    {
     "name": "stdout",
     "output_type": "stream",
     "text": [
      "   2.220446049250313e-16\n",
      " 52\n"
     ]
    }
   ],
   "source": [
    "num = 0; epsilon = 1.0;\n",
    "while 1 + epsilon / 2 > 1\n",
    "    epsilon = epsilon / 2;\n",
    "    num = num + 1;\n",
    "end\n",
    "format long e\n",
    "disp(epsilon)\n",
    "format short\n",
    "disp(num)"
   ]
  },
  {
   "cell_type": "code",
   "execution_count": null,
   "id": "66c973a2-3d34-4165-a879-3322c3c02ec9",
   "metadata": {},
   "outputs": [],
   "source": []
  }
 ],
 "metadata": {
  "kernelspec": {
   "display_name": "Octave",
   "language": "octave",
   "name": "octave"
  },
  "language_info": {
   "file_extension": ".m",
   "help_links": [
    {
     "text": "GNU Octave",
     "url": "https://www.gnu.org/software/octave/support.html"
    },
    {
     "text": "Octave Kernel",
     "url": "https://github.com/Calysto/octave_kernel"
    },
    {
     "text": "MetaKernel Magics",
     "url": "https://metakernel.readthedocs.io/en/latest/source/README.html"
    }
   ],
   "mimetype": "text/x-octave",
   "name": "octave",
   "version": "5.2.0"
  }
 },
 "nbformat": 4,
 "nbformat_minor": 5
}
