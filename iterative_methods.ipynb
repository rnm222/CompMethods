{
 "cells": [
  {
   "cell_type": "markdown",
   "id": "e02439bd-6279-4a72-9fa7-4ea7b41c9741",
   "metadata": {},
   "source": [
    "# Iterative Methods"
   ]
  },
  {
   "cell_type": "markdown",
   "id": "f6606968-4748-4d84-ba56-9ee112285ea1",
   "metadata": {},
   "source": [
    "## Set up the SLE"
   ]
  },
  {
   "cell_type": "code",
   "execution_count": 1,
   "id": "60c3773d-0313-40e5-aca9-e3525526bdb3",
   "metadata": {},
   "outputs": [
    {
     "name": "stdout",
     "output_type": "stream",
     "text": [
      "error: graphics_toolkit: qt toolkit is not available\n",
      "error: called from\n",
      "    graphics_toolkit at line 81 column 5\n",
      "\n",
      "n =  5\n"
     ]
    }
   ],
   "source": [
    "n = 5   %Set the dimension"
   ]
  },
  {
   "cell_type": "code",
   "execution_count": 2,
   "id": "b023c60f-240e-413b-ab90-1398138a1837",
   "metadata": {},
   "outputs": [
    {
     "name": "stdout",
     "output_type": "stream",
     "text": [
      "A =\n",
      "\n",
      "   5.921086   0.983026   0.230737   0.212676   0.438194\n",
      "   0.772684   5.149581   0.041468   0.754271   0.482009\n",
      "   0.596140   0.329890   5.637214   0.969506   0.477128\n",
      "   0.606413   0.575130   0.659803   5.480673   0.041182\n",
      "   0.787944   0.537645   0.357802   0.517017   5.301036\n",
      "\n"
     ]
    }
   ],
   "source": [
    "A = rand(n)+diag(n*ones(n,1))   %Generate the coef. matrix A"
   ]
  },
  {
   "cell_type": "code",
   "execution_count": 3,
   "id": "5faa3a18-2522-46e8-8179-39d2c34fbdfd",
   "metadata": {},
   "outputs": [
    {
     "name": "stdout",
     "output_type": "stream",
     "text": [
      "b =\n",
      "\n",
      "   0.069331\n",
      "   0.382002\n",
      "   0.911968\n",
      "   0.919469\n",
      "   0.858752\n",
      "\n"
     ]
    }
   ],
   "source": [
    "b = rand(n,1)   %Generate the r.h.s. b"
   ]
  },
  {
   "cell_type": "code",
   "execution_count": 4,
   "id": "2c716a1a-e6a0-4d6a-8131-be4e3c35e831",
   "metadata": {},
   "outputs": [],
   "source": [
    "% Check if A is a strictly diagonally dominant matrix\n",
    "function res = isdiagdominant(A)\n",
    "D = diag(A);        % extract the diagonal of A\n",
    "LU = A - diag(D);   % LU is A without the diagonal\n",
    "res = min(abs(D) - sum(abs(LU),2)) > 0;\n",
    "end %function isdiagdominant"
   ]
  },
  {
   "cell_type": "code",
   "execution_count": 5,
   "id": "c6f2c262-d94c-4478-bcf0-bc459c1c9e1d",
   "metadata": {},
   "outputs": [
    {
     "name": "stdout",
     "output_type": "stream",
     "text": [
      "ans = 1\n"
     ]
    }
   ],
   "source": [
    "isdiagdominant(A)   %Check if A is strictly diagonally dominant"
   ]
  },
  {
   "cell_type": "code",
   "execution_count": 6,
   "id": "fb759c3e-7acf-44fc-8e47-924cbab597f9",
   "metadata": {},
   "outputs": [
    {
     "name": "stdout",
     "output_type": "stream",
     "text": [
      "x_true =\n",
      "\n",
      "  -0.015402\n",
      "   0.040787\n",
      "   0.123732\n",
      "   0.149263\n",
      "   0.137240\n",
      "\n"
     ]
    }
   ],
   "source": [
    "x_true = A\\b    %Find the true solution"
   ]
  },
  {
   "cell_type": "markdown",
   "id": "29a32d80-fcff-4d93-89f8-b88acf9672be",
   "metadata": {},
   "source": [
    "## Jacobi Method"
   ]
  },
  {
   "cell_type": "code",
   "execution_count": 7,
   "id": "394d01e0-4354-440e-a7cc-af3bce7afe90",
   "metadata": {},
   "outputs": [],
   "source": [
    "% Inputs: full or sparse matrix A, r.h.s. b,\n",
    "%         number of Jacobi iterations k\n",
    "% Output: solution x\n",
    "function x = jacobi(A,b,k)\n",
    "n = length(b);      % find the dimension n\n",
    "D = diag(A);        % extract the diagonal of A\n",
    "LU = A - diag(D);   % LU is A without the diagonal\n",
    "x = zeros(n,1);     % initialize vector x\n",
    "for j=1:k         % loop for Jacobi iteration\n",
    "  x = (b - LU*x) ./ D;\n",
    "end               % End of Jacobi iteration loop\n",
    "end %function jacobi"
   ]
  },
  {
   "cell_type": "code",
   "execution_count": 8,
   "id": "724e1dfa-fec9-41c9-92e8-1bcc2f96cb73",
   "metadata": {},
   "outputs": [
    {
     "name": "stdout",
     "output_type": "stream",
     "text": [
      "x_a =\n",
      "\n",
      "  -0.015405\n",
      "   0.040783\n",
      "   0.123728\n",
      "   0.149259\n",
      "   0.137236\n",
      "\n"
     ]
    }
   ],
   "source": [
    "x_a = jacobi(A,b,10)   %Find an approximate solution using the Jacobi method"
   ]
  },
  {
   "cell_type": "code",
   "execution_count": 9,
   "id": "7f201aa1-eb99-429a-ab79-f51283858c23",
   "metadata": {},
   "outputs": [
    {
     "name": "stdout",
     "output_type": "stream",
     "text": [
      "RFE =  0.000026874\n"
     ]
    }
   ],
   "source": [
    "RFE = norm(x_a - x_true,inf) / norm(x_true,inf)   %Compute the relative forward error"
   ]
  },
  {
   "cell_type": "code",
   "execution_count": 10,
   "id": "9e83d1ce-3594-4824-9c5a-898fb317067e",
   "metadata": {},
   "outputs": [
    {
     "name": "stdout",
     "output_type": "stream",
     "text": [
      "RBE =  0.000033695\n"
     ]
    }
   ],
   "source": [
    "RBE = norm(b-A*x_a,inf) / norm(b,inf)   %Compute the relative backward error"
   ]
  },
  {
   "cell_type": "markdown",
   "id": "2137b405-6a25-4f6b-b87c-92fcaac5190d",
   "metadata": {},
   "source": [
    "## Sparse Matrix"
   ]
  },
  {
   "cell_type": "code",
   "execution_count": 11,
   "id": "8f375dc2-ebb2-46ea-b471-d4a08a9d201c",
   "metadata": {},
   "outputs": [
    {
     "name": "stdout",
     "output_type": "stream",
     "text": [
      "A =\n",
      "\n",
      "   3  -1   0   0   0\n",
      "  -1   3  -1   0   0\n",
      "   0  -1   3  -1   0\n",
      "   0   0  -1   3  -1\n",
      "   0   0   0  -1   3\n",
      "\n"
     ]
    }
   ],
   "source": [
    "e = ones(5,1);\n",
    "A = diag(3*e) + diag(-e(1:end-1),1) + diag(-e(1:end-1),-1)"
   ]
  },
  {
   "cell_type": "code",
   "execution_count": 12,
   "id": "650061d4-3b88-407c-848a-5a44a0455a4a",
   "metadata": {},
   "outputs": [],
   "source": [
    "e = ones(1000,1);\n",
    "A = diag(3*e) + diag(-e(1:end-1),1) + diag(-e(1:end-1),-1);"
   ]
  },
  {
   "cell_type": "code",
   "execution_count": 13,
   "id": "0ba28fea-4575-4247-bc6f-e9b7c139dc3b",
   "metadata": {},
   "outputs": [
    {
     "name": "stdout",
     "output_type": "stream",
     "text": [
      "Variables in the current scope:\n",
      "\n",
      "   Attr Name        Size                     Bytes  Class\n",
      "   ==== ====        ====                     =====  ===== \n",
      "        A        1000x1000                 8000000  double\n",
      "\n",
      "Total is 1000000 elements using 8000000 bytes\n",
      "\n"
     ]
    }
   ],
   "source": [
    "whos A"
   ]
  },
  {
   "cell_type": "code",
   "execution_count": 14,
   "id": "7d160821-0244-4a33-848f-6812b23ae3ff",
   "metadata": {},
   "outputs": [],
   "source": [
    "AS = sparse(A);"
   ]
  },
  {
   "cell_type": "code",
   "execution_count": 15,
   "id": "959f11fd-84a6-4867-9f17-78245146cf2c",
   "metadata": {},
   "outputs": [
    {
     "name": "stdout",
     "output_type": "stream",
     "text": [
      "Variables in the current scope:\n",
      "\n",
      "   Attr Name        Size                     Bytes  Class\n",
      "   ==== ====        ====                     =====  ===== \n",
      "        AS       1000x1000                   55976  double\n",
      "\n",
      "Total is 1000000 elements using 55976 bytes\n",
      "\n"
     ]
    }
   ],
   "source": [
    "whos AS"
   ]
  },
  {
   "cell_type": "code",
   "execution_count": null,
   "id": "3c44eb2f-4ae8-4caa-9873-e32bf518a8d4",
   "metadata": {},
   "outputs": [],
   "source": []
  }
 ],
 "metadata": {
  "kernelspec": {
   "display_name": "Octave",
   "language": "octave",
   "name": "octave"
  },
  "language_info": {
   "file_extension": ".m",
   "help_links": [
    {
     "text": "GNU Octave",
     "url": "https://www.gnu.org/software/octave/support.html"
    },
    {
     "text": "Octave Kernel",
     "url": "https://github.com/Calysto/octave_kernel"
    },
    {
     "text": "MetaKernel Magics",
     "url": "https://metakernel.readthedocs.io/en/latest/source/README.html"
    }
   ],
   "mimetype": "text/x-octave",
   "name": "octave",
   "version": "5.2.0"
  }
 },
 "nbformat": 4,
 "nbformat_minor": 5
}
