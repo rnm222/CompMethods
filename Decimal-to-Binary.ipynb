{
 "cells": [
  {
   "cell_type": "markdown",
   "id": "70b88d8e-4eeb-45c4-a667-53f307fc97e0",
   "metadata": {},
   "source": [
    "## Routing for converting a positive integer into a binary format"
   ]
  },
  {
   "cell_type": "code",
   "execution_count": 1,
   "id": "50c4e4ef-88e1-40f6-866a-f2ac60e48d4c",
   "metadata": {},
   "outputs": [
    {
     "name": "stdout",
     "output_type": "stream",
     "text": [
      "error: graphics_toolkit: qt toolkit is not available\n",
      "error: called from\n",
      "    graphics_toolkit at line 81 column 5\n",
      "\n"
     ]
    }
   ],
   "source": [
    "function bin = decint2bin(N)\n",
    "%convert a positive integer into the binary format\n",
    "    bin = [];\n",
    "    Q = N;\n",
    "    while Q > 0\n",
    "        b = rem(Q , 2);\n",
    "        bin = strcat( num2str(b) , bin);\n",
    "        Q = fix(Q ./ 2);\n",
    "    end\n",
    "end %function"
   ]
  },
  {
   "cell_type": "code",
   "execution_count": 3,
   "id": "40c90c23-1e48-48fe-bbc5-08ccdbcc0bc7",
   "metadata": {},
   "outputs": [
    {
     "name": "stdout",
     "output_type": "stream",
     "text": [
      "ans = 11111100110\n"
     ]
    }
   ],
   "source": [
    "decint2bin(2022)"
   ]
  },
  {
   "cell_type": "markdown",
   "id": "833bcd34-dc97-487a-bf8b-f21b381bb25c",
   "metadata": {},
   "source": [
    "## Routing for converting a positive fraction into a binary format"
   ]
  },
  {
   "cell_type": "code",
   "execution_count": 2,
   "id": "bdcb9966-4b8b-4666-aaa2-ca5ff63d8c8f",
   "metadata": {},
   "outputs": [],
   "source": [
    "function bin = decfrac2bin(F)\n",
    "%convert a positive fraction into the binary format\n",
    "    kmax = 20; %maximum 20 bits\n",
    "    bin = [];\n",
    "    R = F;\n",
    "    k = 1;\n",
    "    while (R > 0 && k <= kmax)\n",
    "        b = fix(2*R);\n",
    "        bin = strcat( bin, num2str(b) );\n",
    "        R = 2*R - b; %frac(2*R)\n",
    "        k = k + 1;\n",
    "    end\n",
    "end %function"
   ]
  },
  {
   "cell_type": "code",
   "execution_count": 4,
   "id": "5f7d82b0-d28c-4ee0-9f73-d2363f120d7a",
   "metadata": {},
   "outputs": [
    {
     "name": "stdout",
     "output_type": "stream",
     "text": [
      "ans = 00010111010110001110\n"
     ]
    }
   ],
   "source": [
    "decfrac2bin(0.0912)"
   ]
  },
  {
   "cell_type": "markdown",
   "id": "1f9d1a9b-dbc3-41f2-99ba-77963295d08f",
   "metadata": {},
   "source": [
    "## Routing for converting a positive real into a binary format"
   ]
  },
  {
   "cell_type": "code",
   "execution_count": 5,
   "id": "cdd2e797-5303-45c8-aa1a-e6ffd8103b89",
   "metadata": {},
   "outputs": [],
   "source": [
    "function bin = decnum2bin(R)\n",
    "%convert a positive real number into the binary format\n",
    "    binint = decint2bin(fix(R));\n",
    "    binfrac = decfrac2bin(R-fix(R));\n",
    "    bin = strcat( binint, '.', binfrac );\n",
    "end %function"
   ]
  },
  {
   "cell_type": "code",
   "execution_count": 6,
   "id": "3fd49536-1f47-4f01-9632-09593e9810fa",
   "metadata": {},
   "outputs": [
    {
     "name": "stdout",
     "output_type": "stream",
     "text": [
      "ans = 11111100110.00010111010110001110\n"
     ]
    }
   ],
   "source": [
    "decnum2bin(2022.0912)"
   ]
  },
  {
   "cell_type": "code",
   "execution_count": null,
   "id": "57d8bc08-99cd-4688-ae1a-4e3cb49e41a4",
   "metadata": {},
   "outputs": [],
   "source": []
  }
 ],
 "metadata": {
  "kernelspec": {
   "display_name": "Octave",
   "language": "octave",
   "name": "octave"
  },
  "language_info": {
   "file_extension": ".m",
   "help_links": [
    {
     "text": "GNU Octave",
     "url": "https://www.gnu.org/software/octave/support.html"
    },
    {
     "text": "Octave Kernel",
     "url": "https://github.com/Calysto/octave_kernel"
    },
    {
     "text": "MetaKernel Magics",
     "url": "https://metakernel.readthedocs.io/en/latest/source/README.html"
    }
   ],
   "mimetype": "text/x-octave",
   "name": "octave",
   "version": "5.2.0"
  }
 },
 "nbformat": 4,
 "nbformat_minor": 5
}
