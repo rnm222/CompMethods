{
 "cells": [
  {
   "cell_type": "markdown",
   "id": "b03ab9da-ea49-4986-8729-ca1bfde19631",
   "metadata": {},
   "source": [
    "# Interpolation Polynomials"
   ]
  },
  {
   "cell_type": "code",
   "execution_count": 1,
   "id": "b89924a1-2365-4a6a-9c26-e4fef7d9eca2",
   "metadata": {},
   "outputs": [
    {
     "name": "stdout",
     "output_type": "stream",
     "text": [
      "error: graphics_toolkit: qt toolkit is not available\n",
      "error: called from\n",
      "    graphics_toolkit at line 81 column 5\n",
      "\n"
     ]
    },
    {
     "name": "stderr",
     "output_type": "stream",
     "text": [
      "\u001b[0;31mInline plot failed, consider trying another graphics toolkit\n",
      "error: '_make_figures' undefined near line 1 column 1\n",
      "\n",
      "\u001b[0m"
     ]
    }
   ],
   "source": [
    "function [C,D] = newpoly(X,Y)\n",
    "%Find the interpolation polynomial\n",
    "%Input   - X is a column vector that contains a list of abscissas\n",
    "%        - Y is a column vector that contains a list of ordinates\n",
    "%Output  - C is a vector that contains the coefficients\n",
    "%          of the Newton interpolation polynomial\n",
    "%        - D is the divided difference table\n",
    "\n",
    "n = length(X);\n",
    "D = zeros(n,n);\n",
    "D(:,1) = Y;\n",
    "\n",
    "%Form the divided difference table\n",
    "\n",
    "for j=2:n\n",
    "   for k=j:n\n",
    "      D(k,j) = (D(k,j-1)-D(k-1,j-1)) / (X(k)-X(k-j+1));\n",
    "   end\n",
    "end\n",
    "\n",
    "%Determine the coefficients of the Newton interpolation polynomial\n",
    "\n",
    "C=D(n,n);\n",
    "\n",
    "for k=(n-1):-1:1\n",
    "   C = conv(C,poly(X(k)));\n",
    "   m = length(C);\n",
    "   C(m) = C(m)+D(k,k);\n",
    "end\n",
    "end %function newpoly"
   ]
  },
  {
   "cell_type": "code",
   "execution_count": 2,
   "id": "a0f9371f-e3db-4967-a4ac-91013b7578cb",
   "metadata": {},
   "outputs": [
    {
     "name": "stdout",
     "output_type": "stream",
     "text": [
      "error: graphics_toolkit: qt toolkit is not available\n",
      "error: called from\n",
      "    graphics_toolkit at line 81 column 5\n",
      "\n"
     ]
    }
   ],
   "source": [
    "function [X,Y] = generatedata(n,maxy)\n",
    "% Generate the data with uniform X from 0 to n\n",
    "% and random Y from 0 to maxy\n",
    "% n and maxy are positive integers\n",
    "X = [0:1:n]';\n",
    "Y = fix(rand(n+1,1)*(maxy+1));\n",
    "end %function generatedata"
   ]
  },
  {
   "cell_type": "code",
   "execution_count": 3,
   "id": "08a7991f-9c2a-4fc9-9c3c-7b80b53e6d6e",
   "metadata": {},
   "outputs": [],
   "source": [
    "function plotpoly(X,Y)\n",
    "%Input   - X is a vector that contains a list of abscissas\n",
    "%        - Y is a vector that contains a list of ordinates\n",
    "    clf;\n",
    "    axis([min(X) max(X) min(Y)-1 max(Y)+1]);\n",
    "    hold on\n",
    "    plot(X,Y,'or');\n",
    "    XP = linspace(min(X),max(X),101);\n",
    "    YP = polyval(newpoly(X,Y),XP);\n",
    "    plot(XP,YP,'b-');\n",
    "    legend({'Data','Newton Polynomial'},'FontSize',12,\"location\", \"northeast\");\n",
    "end %function plotpoly"
   ]
  },
  {
   "cell_type": "code",
   "execution_count": 4,
   "id": "ac534c00-15ac-4b77-b81a-6a758b473fbd",
   "metadata": {},
   "outputs": [],
   "source": [
    "[X,Y] = generatedata(6,5);  %Create the data set"
   ]
  },
  {
   "cell_type": "code",
   "execution_count": 5,
   "id": "67a66ec7-0a17-4e8a-93b7-45503269dfcb",
   "metadata": {},
   "outputs": [
    {
     "name": "stdout",
     "output_type": "stream",
     "text": [
      "C =\n",
      "\n",
      "   -0.11250    2.02083  -13.68750   43.06250  -61.70000   32.41667    0.00000\n",
      "\n",
      "D =\n",
      "\n",
      "   0.00000   0.00000   0.00000   0.00000   0.00000   0.00000   0.00000\n",
      "   2.00000   2.00000   0.00000   0.00000   0.00000   0.00000   0.00000\n",
      "   1.00000  -1.00000  -1.50000   0.00000   0.00000   0.00000   0.00000\n",
      "   5.00000   4.00000   2.50000   1.33333   0.00000   0.00000   0.00000\n",
      "   3.00000  -2.00000  -3.00000  -1.83333  -0.79167   0.00000   0.00000\n",
      "   5.00000   2.00000   2.00000   1.66667   0.87500   0.33333   0.00000\n",
      "   1.00000  -4.00000  -3.00000  -1.66667  -0.83333  -0.34167  -0.11250\n",
      "\n"
     ]
    }
   ],
   "source": [
    "[C,D] = newpoly(X,Y)  %Interpolation polynomial"
   ]
  },
  {
   "cell_type": "code",
   "execution_count": 6,
   "id": "7c705da2-63f7-4c13-bf9a-4a65366cb456",
   "metadata": {},
   "outputs": [
    {
     "data": {
      "image/png": "[encoded data removed]",
      "text/plain": [
       "<IPython.core.display.Image object>"
      ]
     },
     "metadata": {},
     "output_type": "display_data"
    }
   ],
   "source": [
    "plotpoly(X,Y) %Plot the data along with the interpolating polynomial"
   ]
  },
  {
   "cell_type": "code",
   "execution_count": null,
   "id": "64f0bffc-94bc-46a4-87cc-4b8047563e50",
   "metadata": {},
   "outputs": [],
   "source": []
  }
 ],
 "metadata": {
  "kernelspec": {
   "display_name": "Octave",
   "language": "octave",
   "name": "octave"
  },
  "language_info": {
   "file_extension": ".m",
   "help_links": [
    {
     "text": "GNU Octave",
     "url": "https://www.gnu.org/software/octave/support.html"
    },
    {
     "text": "Octave Kernel",
     "url": "https://github.com/Calysto/octave_kernel"
    },
    {
     "text": "MetaKernel Magics",
     "url": "https://metakernel.readthedocs.io/en/latest/source/README.html"
    }
   ],
   "mimetype": "text/x-octave",
   "name": "octave",
   "version": "5.2.0"
  }
 },
 "nbformat": 4,
 "nbformat_minor": 5
}
